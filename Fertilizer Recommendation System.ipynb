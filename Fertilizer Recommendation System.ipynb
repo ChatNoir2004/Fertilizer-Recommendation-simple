{
 "cells": [
  {
   "cell_type": "code",
   "execution_count": 3,
   "id": "2784e975-4320-4d61-b3fa-433d5c729f3f",
   "metadata": {},
   "outputs": [
    {
     "name": "stdout",
     "output_type": "stream",
     "text": [
      "{'Urea': 0, 'DAP': 1, 'Fourteen-Thirty Five-Fourteen': 2, 'Twenty Eight-Twenty Eight': 3, 'Seventeen-Seventeen-Seventeen': 4, 'Twenty-Twenty': 5, 'Ten-Twenty Six-Twenty Six': 6}\n",
      "{0: 'Urea', 1: 'DAP', 2: 'Fourteen-Thirty Five-Fourteen', 3: 'Twenty Eight-Twenty Eight', 4: 'Seventeen-Seventeen-Seventeen', 5: 'Twenty-Twenty', 6: 'Ten-Twenty Six-Twenty Six'}\n"
     ]
    }
   ],
   "source": [
    "import pandas as pd\n",
    "import pickle\n",
    "\n",
    "# Load dataset\n",
    "df = pd.read_csv(\"Fertilizer.csv\")\n",
    "\n",
    "# Convert 'Fertilizer Name' to numerical codes\n",
    "df['Fertilizer Code'] = pd.factorize(df['Fertilizer Name'])[0]\n",
    "\n",
    "# Create fertilizer map\n",
    "fertilizer_map = df[['Fertilizer Name', 'Fertilizer Code']].drop_duplicates().set_index('Fertilizer Name').to_dict()['Fertilizer Code']\n",
    "reverse_fertilizer_map = {v: k for k, v in fertilizer_map.items()}\n",
    "\n",
    "# Save maps\n",
    "with open('fertilizer_map.pkl', 'wb') as file:\n",
    "    pickle.dump(fertilizer_map, file)\n",
    "\n",
    "with open('reverse_fertilizer_map.pkl', 'wb') as file:\n",
    "    pickle.dump(reverse_fertilizer_map, file)\n",
    "\n",
    "# Print maps for debugging\n",
    "print(fertilizer_map)\n",
    "print(reverse_fertilizer_map)\n"
   ]
  },
  {
   "cell_type": "code",
   "execution_count": 5,
   "id": "b076692a-52fd-486f-81ad-704630f572d6",
   "metadata": {},
   "outputs": [
    {
     "name": "stdout",
     "output_type": "stream",
     "text": [
      "{'Urea': 0, 'DAP': 1, 'Fourteen-Thirty Five-Fourteen': 2, 'Twenty Eight-Twenty Eight': 3, 'Seventeen-Seventeen-Seventeen': 4, 'Twenty-Twenty': 5, 'Ten-Twenty Six-Twenty Six': 6}\n",
      "{0: 'Urea', 1: 'DAP', 2: 'Fourteen-Thirty Five-Fourteen', 3: 'Twenty Eight-Twenty Eight', 4: 'Seventeen-Seventeen-Seventeen', 5: 'Twenty-Twenty', 6: 'Ten-Twenty Six-Twenty Six'}\n"
     ]
    }
   ],
   "source": [
    "import pandas as pd\n",
    "import numpy as np\n",
    "import pickle\n",
    "from scipy.spatial import distance\n",
    "\n",
    "# Define the SimpleRecommender class\n",
    "class SimpleRecommender:\n",
    "    def __init__(self, average_features):\n",
    "        self.average_features = average_features\n",
    "\n",
    "    def recommend(self, features):\n",
    "        distances = self.average_features.apply(lambda x: distance.euclidean(x, features), axis=1)\n",
    "        recommended_code = distances.idxmin()\n",
    "        return recommended_code\n",
    "\n",
    "# Load the dataset\n",
    "df = pd.read_csv(\"Fertilizer.csv\")\n",
    "\n",
    "# Convert 'Fertilizer Name' to numerical codes\n",
    "df['Fertilizer Code'] = pd.factorize(df['Fertilizer Name'])[0]\n",
    "\n",
    "# Prepare feature matrix and compute average features\n",
    "numeric_features = df.select_dtypes(include=[np.number])\n",
    "average_features = numeric_features.groupby('Fertilizer Code').mean()\n",
    "\n",
    "# Initialize recommender\n",
    "recommender = SimpleRecommender(average_features)\n",
    "\n",
    "# Save the recommender model\n",
    "with open('recommender_model.pkl', 'wb') as file:\n",
    "    pickle.dump(recommender, file)\n",
    "\n",
    "# Create fertilizer maps\n",
    "fertilizer_map = df[['Fertilizer Name', 'Fertilizer Code']].drop_duplicates().set_index('Fertilizer Name').to_dict()['Fertilizer Code']\n",
    "reverse_fertilizer_map = {v: k for k, v in fertilizer_map.items()}\n",
    "\n",
    "# Save maps\n",
    "with open('fertilizer_map.pkl', 'wb') as file:\n",
    "    pickle.dump(fertilizer_map, file)\n",
    "\n",
    "with open('reverse_fertilizer_map.pkl', 'wb') as file:\n",
    "    pickle.dump(reverse_fertilizer_map, file)\n",
    "\n",
    "# Print maps for debugging\n",
    "print(fertilizer_map)\n",
    "print(reverse_fertilizer_map)\n"
   ]
  }
 ],
 "metadata": {
  "kernelspec": {
   "display_name": "Python 3 (ipykernel)",
   "language": "python",
   "name": "python3"
  },
  "language_info": {
   "codemirror_mode": {
    "name": "ipython",
    "version": 3
   },
   "file_extension": ".py",
   "mimetype": "text/x-python",
   "name": "python",
   "nbconvert_exporter": "python",
   "pygments_lexer": "ipython3",
   "version": "3.12.4"
  }
 },
 "nbformat": 4,
 "nbformat_minor": 5
}
